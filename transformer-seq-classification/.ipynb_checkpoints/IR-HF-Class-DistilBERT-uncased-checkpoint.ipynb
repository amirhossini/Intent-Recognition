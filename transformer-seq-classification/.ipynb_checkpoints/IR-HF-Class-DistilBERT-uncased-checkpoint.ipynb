{
 "cells": [
  {
   "cell_type": "markdown",
   "id": "57edd5b6",
   "metadata": {},
   "source": [
    "__Project:__ Intent Recognition <br> \n",
    "__Sub-prj:__ HuggingFace Pre-trained <br>\n",
    "__Experm:__ Classification with distilbert-base-uncased <br>\n",
    "__Devl by:__ Amir Hossini <br>\n",
    "__Dev Dat:__ Oct 6, 2021 <br>"
   ]
  },
  {
   "cell_type": "markdown",
   "id": "02888adc",
   "metadata": {},
   "source": [
    "#### Libraries"
   ]
  },
  {
   "cell_type": "code",
   "execution_count": 31,
   "id": "80d9a1eb",
   "metadata": {},
   "outputs": [
    {
     "name": "stdout",
     "output_type": "stream",
     "text": [
      "Tensorflow version: 2.5.0\n",
      "Transformers version: 4.11.3\n",
      "Num GPUs Available:  1\n"
     ]
    }
   ],
   "source": [
    "import numpy as np\n",
    "import pandas as pd\n",
    "import csv\n",
    "import transformers\n",
    "from transformers import AutoTokenizer\n",
    "from transformers import TFAutoModelForSequenceClassification\n",
    "import tensorflow as tf\n",
    "from tensorflow.keras.losses import SparseCategoricalCrossentropy\n",
    "import matplotlib.pyplot as plt\n",
    "\n",
    "print(f\"Tensorflow version: {tf.__version__}\")\n",
    "print(f\"Transformers version: {transformers.__version__}\")\n",
    "print(\"Num GPUs Available: \", len(tf.config.list_physical_devices('GPU')))"
   ]
  },
  {
   "cell_type": "markdown",
   "id": "a4776d9b",
   "metadata": {},
   "source": [
    "#### I/O Files & Params"
   ]
  },
  {
   "cell_type": "code",
   "execution_count": 19,
   "id": "cfc6fa55",
   "metadata": {},
   "outputs": [],
   "source": [
    "fl_train = '../datasets/banking77/train.csv'\n",
    "fl_test  = '../datasets/banking77/test.csv'"
   ]
  },
  {
   "cell_type": "markdown",
   "id": "bb534aed",
   "metadata": {},
   "source": [
    "#### Import files, Basics"
   ]
  },
  {
   "cell_type": "code",
   "execution_count": 20,
   "id": "a2c05cf0",
   "metadata": {
    "scrolled": true
   },
   "outputs": [
    {
     "name": "stdout",
     "output_type": "stream",
     "text": [
      "\n",
      "Training Dataset:\n"
     ]
    },
    {
     "data": {
      "text/html": [
       "<div>\n",
       "<style scoped>\n",
       "    .dataframe tbody tr th:only-of-type {\n",
       "        vertical-align: middle;\n",
       "    }\n",
       "\n",
       "    .dataframe tbody tr th {\n",
       "        vertical-align: top;\n",
       "    }\n",
       "\n",
       "    .dataframe thead th {\n",
       "        text-align: right;\n",
       "    }\n",
       "</style>\n",
       "<table border=\"1\" class=\"dataframe\">\n",
       "  <thead>\n",
       "    <tr style=\"text-align: right;\">\n",
       "      <th></th>\n",
       "      <th>text</th>\n",
       "      <th>category</th>\n",
       "    </tr>\n",
       "  </thead>\n",
       "  <tbody>\n",
       "    <tr>\n",
       "      <th>0</th>\n",
       "      <td>I am still waiting on my card?</td>\n",
       "      <td>card_arrival</td>\n",
       "    </tr>\n",
       "    <tr>\n",
       "      <th>1</th>\n",
       "      <td>What can I do if my card still hasn't arrived ...</td>\n",
       "      <td>card_arrival</td>\n",
       "    </tr>\n",
       "    <tr>\n",
       "      <th>2</th>\n",
       "      <td>I have been waiting over a week. Is the card s...</td>\n",
       "      <td>card_arrival</td>\n",
       "    </tr>\n",
       "    <tr>\n",
       "      <th>3</th>\n",
       "      <td>Can I track my card while it is in the process...</td>\n",
       "      <td>card_arrival</td>\n",
       "    </tr>\n",
       "    <tr>\n",
       "      <th>4</th>\n",
       "      <td>How do I know if I will get my card, or if it ...</td>\n",
       "      <td>card_arrival</td>\n",
       "    </tr>\n",
       "    <tr>\n",
       "      <th>...</th>\n",
       "      <td>...</td>\n",
       "      <td>...</td>\n",
       "    </tr>\n",
       "    <tr>\n",
       "      <th>9998</th>\n",
       "      <td>You provide support in what countries?</td>\n",
       "      <td>country_support</td>\n",
       "    </tr>\n",
       "    <tr>\n",
       "      <th>9999</th>\n",
       "      <td>What countries are you supporting?</td>\n",
       "      <td>country_support</td>\n",
       "    </tr>\n",
       "    <tr>\n",
       "      <th>10000</th>\n",
       "      <td>What countries are getting support?</td>\n",
       "      <td>country_support</td>\n",
       "    </tr>\n",
       "    <tr>\n",
       "      <th>10001</th>\n",
       "      <td>Are cards available in the EU?</td>\n",
       "      <td>country_support</td>\n",
       "    </tr>\n",
       "    <tr>\n",
       "      <th>10002</th>\n",
       "      <td>Which countries are represented?</td>\n",
       "      <td>country_support</td>\n",
       "    </tr>\n",
       "  </tbody>\n",
       "</table>\n",
       "<p>10003 rows × 2 columns</p>\n",
       "</div>"
      ],
      "text/plain": [
       "                                                    text         category\n",
       "0                         I am still waiting on my card?     card_arrival\n",
       "1      What can I do if my card still hasn't arrived ...     card_arrival\n",
       "2      I have been waiting over a week. Is the card s...     card_arrival\n",
       "3      Can I track my card while it is in the process...     card_arrival\n",
       "4      How do I know if I will get my card, or if it ...     card_arrival\n",
       "...                                                  ...              ...\n",
       "9998              You provide support in what countries?  country_support\n",
       "9999                  What countries are you supporting?  country_support\n",
       "10000                What countries are getting support?  country_support\n",
       "10001                     Are cards available in the EU?  country_support\n",
       "10002                   Which countries are represented?  country_support\n",
       "\n",
       "[10003 rows x 2 columns]"
      ]
     },
     "metadata": {},
     "output_type": "display_data"
    },
    {
     "name": "stdout",
     "output_type": "stream",
     "text": [
      "Traning Classes:\n"
     ]
    },
    {
     "data": {
      "text/plain": [
       "77"
      ]
     },
     "metadata": {},
     "output_type": "display_data"
    },
    {
     "name": "stdout",
     "output_type": "stream",
     "text": [
      "\n",
      "Testing Dataset:\n"
     ]
    },
    {
     "data": {
      "text/html": [
       "<div>\n",
       "<style scoped>\n",
       "    .dataframe tbody tr th:only-of-type {\n",
       "        vertical-align: middle;\n",
       "    }\n",
       "\n",
       "    .dataframe tbody tr th {\n",
       "        vertical-align: top;\n",
       "    }\n",
       "\n",
       "    .dataframe thead th {\n",
       "        text-align: right;\n",
       "    }\n",
       "</style>\n",
       "<table border=\"1\" class=\"dataframe\">\n",
       "  <thead>\n",
       "    <tr style=\"text-align: right;\">\n",
       "      <th></th>\n",
       "      <th>text</th>\n",
       "      <th>category</th>\n",
       "    </tr>\n",
       "  </thead>\n",
       "  <tbody>\n",
       "    <tr>\n",
       "      <th>0</th>\n",
       "      <td>How do I locate my card?</td>\n",
       "      <td>card_arrival</td>\n",
       "    </tr>\n",
       "    <tr>\n",
       "      <th>1</th>\n",
       "      <td>I still have not received my new card, I order...</td>\n",
       "      <td>card_arrival</td>\n",
       "    </tr>\n",
       "    <tr>\n",
       "      <th>2</th>\n",
       "      <td>I ordered a card but it has not arrived. Help ...</td>\n",
       "      <td>card_arrival</td>\n",
       "    </tr>\n",
       "    <tr>\n",
       "      <th>3</th>\n",
       "      <td>Is there a way to know when my card will arrive?</td>\n",
       "      <td>card_arrival</td>\n",
       "    </tr>\n",
       "    <tr>\n",
       "      <th>4</th>\n",
       "      <td>My card has not arrived yet.</td>\n",
       "      <td>card_arrival</td>\n",
       "    </tr>\n",
       "    <tr>\n",
       "      <th>...</th>\n",
       "      <td>...</td>\n",
       "      <td>...</td>\n",
       "    </tr>\n",
       "    <tr>\n",
       "      <th>3075</th>\n",
       "      <td>If i'm not in the UK, can I still get a card?</td>\n",
       "      <td>country_support</td>\n",
       "    </tr>\n",
       "    <tr>\n",
       "      <th>3076</th>\n",
       "      <td>How many countries do you support?</td>\n",
       "      <td>country_support</td>\n",
       "    </tr>\n",
       "    <tr>\n",
       "      <th>3077</th>\n",
       "      <td>What countries do you do business in?</td>\n",
       "      <td>country_support</td>\n",
       "    </tr>\n",
       "    <tr>\n",
       "      <th>3078</th>\n",
       "      <td>What are the countries you operate in.</td>\n",
       "      <td>country_support</td>\n",
       "    </tr>\n",
       "    <tr>\n",
       "      <th>3079</th>\n",
       "      <td>Can the card be mailed and used in Europe?</td>\n",
       "      <td>country_support</td>\n",
       "    </tr>\n",
       "  </tbody>\n",
       "</table>\n",
       "<p>3080 rows × 2 columns</p>\n",
       "</div>"
      ],
      "text/plain": [
       "                                                   text         category\n",
       "0                              How do I locate my card?     card_arrival\n",
       "1     I still have not received my new card, I order...     card_arrival\n",
       "2     I ordered a card but it has not arrived. Help ...     card_arrival\n",
       "3      Is there a way to know when my card will arrive?     card_arrival\n",
       "4                          My card has not arrived yet.     card_arrival\n",
       "...                                                 ...              ...\n",
       "3075      If i'm not in the UK, can I still get a card?  country_support\n",
       "3076                 How many countries do you support?  country_support\n",
       "3077              What countries do you do business in?  country_support\n",
       "3078             What are the countries you operate in.  country_support\n",
       "3079         Can the card be mailed and used in Europe?  country_support\n",
       "\n",
       "[3080 rows x 2 columns]"
      ]
     },
     "metadata": {},
     "output_type": "display_data"
    },
    {
     "name": "stdout",
     "output_type": "stream",
     "text": [
      "Testing Classes:\n"
     ]
    },
    {
     "data": {
      "text/plain": [
       "77"
      ]
     },
     "metadata": {},
     "output_type": "display_data"
    }
   ],
   "source": [
    "train = pd.read_csv(fl_train)\n",
    "test  = pd.read_csv(fl_test)\n",
    "\n",
    "print('\\nTraining Dataset:')\n",
    "display(train)\n",
    "print('Traning Classes:')\n",
    "display(len(train.category.unique()))\n",
    "print('\\nTesting Dataset:')\n",
    "display(test)\n",
    "print('Testing Classes:')\n",
    "display(len(test.category.unique()))\n",
    "\n",
    "training_sentences = list(train.loc[:,'text'])\n",
    "validation_sentences = list(test.loc[:,'text'])\n",
    "training_labels, levels = pd.factorize(train.loc[:,'category'])\n",
    "label_keys=dict(zip(levels,range(len(levels))))\n",
    "validation_labels = test.loc[:,'category'].map(lambda x: label_keys[x])"
   ]
  },
  {
   "cell_type": "code",
   "execution_count": 21,
   "id": "361e3ae3",
   "metadata": {
    "scrolled": true
   },
   "outputs": [],
   "source": [
    "checkpoint = \"distilbert-base-uncased\"\n",
    "tokenizer = AutoTokenizer.from_pretrained(checkpoint)"
   ]
  },
  {
   "cell_type": "code",
   "execution_count": 22,
   "id": "da57cbf0",
   "metadata": {},
   "outputs": [],
   "source": [
    "train_encodings = tokenizer(training_sentences,\n",
    "                            truncation=True,\n",
    "                            padding=True,\n",
    "                            return_tensors='tf')\n",
    "val_encodings = tokenizer(validation_sentences,\n",
    "                          truncation=True,\n",
    "                          padding=True,\n",
    "                          return_tensors='tf')"
   ]
  },
  {
   "cell_type": "code",
   "execution_count": 23,
   "id": "1522d315",
   "metadata": {},
   "outputs": [],
   "source": [
    "train_dataset = tf.data.Dataset.from_tensor_slices((\n",
    "    dict(train_encodings),\n",
    "    training_labels\n",
    "))\n",
    "\n",
    "val_dataset = tf.data.Dataset.from_tensor_slices((\n",
    "    dict(val_encodings),\n",
    "    validation_labels\n",
    "))"
   ]
  },
  {
   "cell_type": "code",
   "execution_count": 27,
   "id": "481feff5",
   "metadata": {
    "scrolled": false
   },
   "outputs": [
    {
     "name": "stderr",
     "output_type": "stream",
     "text": [
      "Some layers from the model checkpoint at distilbert-base-uncased were not used when initializing TFDistilBertForSequenceClassification: ['vocab_layer_norm', 'vocab_projector', 'activation_13', 'vocab_transform']\n",
      "- This IS expected if you are initializing TFDistilBertForSequenceClassification from the checkpoint of a model trained on another task or with another architecture (e.g. initializing a BertForSequenceClassification model from a BertForPreTraining model).\n",
      "- This IS NOT expected if you are initializing TFDistilBertForSequenceClassification from the checkpoint of a model that you expect to be exactly identical (initializing a BertForSequenceClassification model from a BertForSequenceClassification model).\n",
      "Some layers of TFDistilBertForSequenceClassification were not initialized from the model checkpoint at distilbert-base-uncased and are newly initialized: ['classifier', 'dropout_59', 'pre_classifier']\n",
      "You should probably TRAIN this model on a down-stream task to be able to use it for predictions and inference.\n"
     ]
    }
   ],
   "source": [
    "model = TFAutoModelForSequenceClassification.from_pretrained(checkpoint, num_labels=77)"
   ]
  },
  {
   "cell_type": "code",
   "execution_count": 28,
   "id": "1fbf439f",
   "metadata": {},
   "outputs": [],
   "source": [
    "model.compile(\n",
    "    optimizer=tf.keras.optimizers.Adam(learning_rate=5e-5),\n",
    "    loss=SparseCategoricalCrossentropy(from_logits=True),\n",
    "    metrics=['accuracy'],\n",
    ")"
   ]
  },
  {
   "cell_type": "code",
   "execution_count": 29,
   "id": "340d2a06",
   "metadata": {},
   "outputs": [
    {
     "name": "stdout",
     "output_type": "stream",
     "text": [
      "Epoch 1/10\n",
      "157/157 [==============================] - 80s 481ms/step - loss: 4.3007 - accuracy: 0.0275 - val_loss: 4.3654 - val_accuracy: 0.0130\n",
      "Epoch 2/10\n",
      "157/157 [==============================] - 76s 483ms/step - loss: 3.6037 - accuracy: 0.0841 - val_loss: 4.5451 - val_accuracy: 0.0130\n",
      "Epoch 3/10\n",
      "157/157 [==============================] - 76s 487ms/step - loss: 2.8761 - accuracy: 0.1521 - val_loss: 5.0941 - val_accuracy: 0.0130\n",
      "Epoch 4/10\n",
      "157/157 [==============================] - 76s 487ms/step - loss: 2.4559 - accuracy: 0.1745 - val_loss: 5.6166 - val_accuracy: 0.0130\n",
      "Epoch 5/10\n",
      "157/157 [==============================] - 76s 486ms/step - loss: 2.1842 - accuracy: 0.2140 - val_loss: 6.5902 - val_accuracy: 0.0130\n",
      "Epoch 6/10\n",
      "157/157 [==============================] - 77s 493ms/step - loss: 2.0136 - accuracy: 0.2421 - val_loss: 7.0127 - val_accuracy: 0.0136\n",
      "Epoch 7/10\n",
      "157/157 [==============================] - 76s 483ms/step - loss: 2.2020 - accuracy: 0.2037 - val_loss: 7.6192 - val_accuracy: 0.0130\n",
      "Epoch 8/10\n",
      "157/157 [==============================] - 76s 482ms/step - loss: 3.0405 - accuracy: 0.0997 - val_loss: 7.0228 - val_accuracy: 0.0195\n",
      "Epoch 9/10\n",
      "157/157 [==============================] - 76s 483ms/step - loss: 2.4550 - accuracy: 0.1433 - val_loss: 7.0731 - val_accuracy: 0.0130\n",
      "Epoch 10/10\n",
      "157/157 [==============================] - 76s 484ms/step - loss: 2.6177 - accuracy: 0.1394 - val_loss: 7.1514 - val_accuracy: 0.0130\n"
     ]
    }
   ],
   "source": [
    "history = model.fit(train_dataset.shuffle(100).batch(64),\n",
    "          epochs=10,\n",
    "          batch_size=64,\n",
    "          validation_data=val_dataset.shuffle(100).batch(16))"
   ]
  },
  {
   "cell_type": "code",
   "execution_count": 32,
   "id": "648cace3",
   "metadata": {},
   "outputs": [
    {
     "data": {
      "image/png": "[encoded data removed]",
      "text/plain": [
       "<Figure size 720x288 with 2 Axes>"
      ]
     },
     "metadata": {
      "needs_background": "light"
     },
     "output_type": "display_data"
    }
   ],
   "source": [
    "acc = history.history['accuracy']\n",
    "val_acc = history.history['val_accuracy']\n",
    "loss = history.history['loss']\n",
    "val_loss = history.history['val_loss']\n",
    "epochs_range = range(len(acc))\n",
    "\n",
    "plt.figure(figsize=(10, 4))\n",
    "plt.subplot(1, 2, 1)\n",
    "plt.plot(epochs_range, acc, label='Training Accuracy')\n",
    "plt.plot(epochs_range, val_acc, label='Validation Accuracy')\n",
    "plt.legend(loc='lower right')\n",
    "plt.title('Training and Validation Accuracy')\n",
    "\n",
    "plt.subplot(1, 2, 2)\n",
    "plt.plot(epochs_range, loss, label='Training Loss')\n",
    "plt.plot(epochs_range, val_loss, label='Validation Loss')\n",
    "plt.legend(loc='upper right')\n",
    "plt.title('Training and Validation Loss')\n",
    "plt.show()"
   ]
  },
  {
   "cell_type": "code",
   "execution_count": null,
   "id": "be98603f",
   "metadata": {},
   "outputs": [],
   "source": []
  }
 ],
 "metadata": {
  "kernelspec": {
   "display_name": "Python [conda env:tf2.5]",
   "language": "python",
   "name": "conda-env-tf2.5-py"
  },
  "language_info": {
   "codemirror_mode": {
    "name": "ipython",
    "version": 3
   },
   "file_extension": ".py",
   "mimetype": "text/x-python",
   "name": "python",
   "nbconvert_exporter": "python",
   "pygments_lexer": "ipython3",
   "version": "3.8.0"
  }
 },
 "nbformat": 4,
 "nbformat_minor": 5
}
