{
 "cells": [
  {
   "cell_type": "markdown",
   "id": "57edd5b6",
   "metadata": {},
   "source": [
    "__Project:__ Intent Recognition <br> \n",
    "__Sub-prj:__ HuggingFace Pre-trained <br>\n",
    "__Experm:__ Classification with distilbert-base-uncased <br>\n",
    "__Devl by:__ Amir Hossini <br>\n",
    "__Dev Dat:__ Oct 6, 2021 <br>"
   ]
  },
  {
   "cell_type": "markdown",
   "id": "02888adc",
   "metadata": {},
   "source": [
    "#### Libraries"
   ]
  },
  {
   "cell_type": "code",
   "execution_count": null,
   "id": "80d9a1eb",
   "metadata": {},
   "outputs": [],
   "source": [
    "import numpy as np\n",
    "import pandas as pd\n",
    "import csv\n",
    "from transformers import AutoTokenizer\n",
    "from transformers import TFAutoModelForSequenceClassification\n",
    "import tensorflow as tf\n",
    "from tensorflow.keras.losses import SparseCategoricalCrossentropy\n",
    "\n",
    "print(f\"Tensorflow version: {tf.__version__}\")\n",
    "print(f\"Transformers version: {transformers.__version__}\")\n",
    "print(\"Num GPUs Available: \", len(tf.config.list_physical_devices('GPU')))"
   ]
  },
  {
   "cell_type": "markdown",
   "id": "a4776d9b",
   "metadata": {},
   "source": [
    "#### I/O Files & Params"
   ]
  },
  {
   "cell_type": "code",
   "execution_count": 10,
   "id": "cfc6fa55",
   "metadata": {},
   "outputs": [],
   "source": [
    "fl_train = '../datasets/banking77/train.csv'\n",
    "fl_test  = '../datasets/banking77/test.csv'"
   ]
  },
  {
   "cell_type": "markdown",
   "id": "bb534aed",
   "metadata": {},
   "source": [
    "#### Import files, Basics"
   ]
  },
  {
   "cell_type": "code",
   "execution_count": 68,
   "id": "a2c05cf0",
   "metadata": {
    "scrolled": true
   },
   "outputs": [
    {
     "name": "stdout",
     "output_type": "stream",
     "text": [
      "\n",
      "Training Dataset:\n"
     ]
    },
    {
     "data": {
      "text/html": [
       "<div>\n",
       "<style scoped>\n",
       "    .dataframe tbody tr th:only-of-type {\n",
       "        vertical-align: middle;\n",
       "    }\n",
       "\n",
       "    .dataframe tbody tr th {\n",
       "        vertical-align: top;\n",
       "    }\n",
       "\n",
       "    .dataframe thead th {\n",
       "        text-align: right;\n",
       "    }\n",
       "</style>\n",
       "<table border=\"1\" class=\"dataframe\">\n",
       "  <thead>\n",
       "    <tr style=\"text-align: right;\">\n",
       "      <th></th>\n",
       "      <th>text</th>\n",
       "      <th>category</th>\n",
       "    </tr>\n",
       "  </thead>\n",
       "  <tbody>\n",
       "    <tr>\n",
       "      <th>0</th>\n",
       "      <td>I am still waiting on my card?</td>\n",
       "      <td>card_arrival</td>\n",
       "    </tr>\n",
       "    <tr>\n",
       "      <th>1</th>\n",
       "      <td>What can I do if my card still hasn't arrived ...</td>\n",
       "      <td>card_arrival</td>\n",
       "    </tr>\n",
       "    <tr>\n",
       "      <th>2</th>\n",
       "      <td>I have been waiting over a week. Is the card s...</td>\n",
       "      <td>card_arrival</td>\n",
       "    </tr>\n",
       "    <tr>\n",
       "      <th>3</th>\n",
       "      <td>Can I track my card while it is in the process...</td>\n",
       "      <td>card_arrival</td>\n",
       "    </tr>\n",
       "    <tr>\n",
       "      <th>4</th>\n",
       "      <td>How do I know if I will get my card, or if it ...</td>\n",
       "      <td>card_arrival</td>\n",
       "    </tr>\n",
       "    <tr>\n",
       "      <th>...</th>\n",
       "      <td>...</td>\n",
       "      <td>...</td>\n",
       "    </tr>\n",
       "    <tr>\n",
       "      <th>9998</th>\n",
       "      <td>You provide support in what countries?</td>\n",
       "      <td>country_support</td>\n",
       "    </tr>\n",
       "    <tr>\n",
       "      <th>9999</th>\n",
       "      <td>What countries are you supporting?</td>\n",
       "      <td>country_support</td>\n",
       "    </tr>\n",
       "    <tr>\n",
       "      <th>10000</th>\n",
       "      <td>What countries are getting support?</td>\n",
       "      <td>country_support</td>\n",
       "    </tr>\n",
       "    <tr>\n",
       "      <th>10001</th>\n",
       "      <td>Are cards available in the EU?</td>\n",
       "      <td>country_support</td>\n",
       "    </tr>\n",
       "    <tr>\n",
       "      <th>10002</th>\n",
       "      <td>Which countries are represented?</td>\n",
       "      <td>country_support</td>\n",
       "    </tr>\n",
       "  </tbody>\n",
       "</table>\n",
       "<p>10003 rows × 2 columns</p>\n",
       "</div>"
      ],
      "text/plain": [
       "                                                    text         category\n",
       "0                         I am still waiting on my card?     card_arrival\n",
       "1      What can I do if my card still hasn't arrived ...     card_arrival\n",
       "2      I have been waiting over a week. Is the card s...     card_arrival\n",
       "3      Can I track my card while it is in the process...     card_arrival\n",
       "4      How do I know if I will get my card, or if it ...     card_arrival\n",
       "...                                                  ...              ...\n",
       "9998              You provide support in what countries?  country_support\n",
       "9999                  What countries are you supporting?  country_support\n",
       "10000                What countries are getting support?  country_support\n",
       "10001                     Are cards available in the EU?  country_support\n",
       "10002                   Which countries are represented?  country_support\n",
       "\n",
       "[10003 rows x 2 columns]"
      ]
     },
     "metadata": {},
     "output_type": "display_data"
    },
    {
     "name": "stdout",
     "output_type": "stream",
     "text": [
      "Traning Classes:\n"
     ]
    },
    {
     "data": {
      "text/plain": [
       "77"
      ]
     },
     "metadata": {},
     "output_type": "display_data"
    },
    {
     "name": "stdout",
     "output_type": "stream",
     "text": [
      "\n",
      "Testing Dataset:\n"
     ]
    },
    {
     "data": {
      "text/html": [
       "<div>\n",
       "<style scoped>\n",
       "    .dataframe tbody tr th:only-of-type {\n",
       "        vertical-align: middle;\n",
       "    }\n",
       "\n",
       "    .dataframe tbody tr th {\n",
       "        vertical-align: top;\n",
       "    }\n",
       "\n",
       "    .dataframe thead th {\n",
       "        text-align: right;\n",
       "    }\n",
       "</style>\n",
       "<table border=\"1\" class=\"dataframe\">\n",
       "  <thead>\n",
       "    <tr style=\"text-align: right;\">\n",
       "      <th></th>\n",
       "      <th>text</th>\n",
       "      <th>category</th>\n",
       "    </tr>\n",
       "  </thead>\n",
       "  <tbody>\n",
       "    <tr>\n",
       "      <th>0</th>\n",
       "      <td>How do I locate my card?</td>\n",
       "      <td>card_arrival</td>\n",
       "    </tr>\n",
       "    <tr>\n",
       "      <th>1</th>\n",
       "      <td>I still have not received my new card, I order...</td>\n",
       "      <td>card_arrival</td>\n",
       "    </tr>\n",
       "    <tr>\n",
       "      <th>2</th>\n",
       "      <td>I ordered a card but it has not arrived. Help ...</td>\n",
       "      <td>card_arrival</td>\n",
       "    </tr>\n",
       "    <tr>\n",
       "      <th>3</th>\n",
       "      <td>Is there a way to know when my card will arrive?</td>\n",
       "      <td>card_arrival</td>\n",
       "    </tr>\n",
       "    <tr>\n",
       "      <th>4</th>\n",
       "      <td>My card has not arrived yet.</td>\n",
       "      <td>card_arrival</td>\n",
       "    </tr>\n",
       "    <tr>\n",
       "      <th>...</th>\n",
       "      <td>...</td>\n",
       "      <td>...</td>\n",
       "    </tr>\n",
       "    <tr>\n",
       "      <th>3075</th>\n",
       "      <td>If i'm not in the UK, can I still get a card?</td>\n",
       "      <td>country_support</td>\n",
       "    </tr>\n",
       "    <tr>\n",
       "      <th>3076</th>\n",
       "      <td>How many countries do you support?</td>\n",
       "      <td>country_support</td>\n",
       "    </tr>\n",
       "    <tr>\n",
       "      <th>3077</th>\n",
       "      <td>What countries do you do business in?</td>\n",
       "      <td>country_support</td>\n",
       "    </tr>\n",
       "    <tr>\n",
       "      <th>3078</th>\n",
       "      <td>What are the countries you operate in.</td>\n",
       "      <td>country_support</td>\n",
       "    </tr>\n",
       "    <tr>\n",
       "      <th>3079</th>\n",
       "      <td>Can the card be mailed and used in Europe?</td>\n",
       "      <td>country_support</td>\n",
       "    </tr>\n",
       "  </tbody>\n",
       "</table>\n",
       "<p>3080 rows × 2 columns</p>\n",
       "</div>"
      ],
      "text/plain": [
       "                                                   text         category\n",
       "0                              How do I locate my card?     card_arrival\n",
       "1     I still have not received my new card, I order...     card_arrival\n",
       "2     I ordered a card but it has not arrived. Help ...     card_arrival\n",
       "3      Is there a way to know when my card will arrive?     card_arrival\n",
       "4                          My card has not arrived yet.     card_arrival\n",
       "...                                                 ...              ...\n",
       "3075      If i'm not in the UK, can I still get a card?  country_support\n",
       "3076                 How many countries do you support?  country_support\n",
       "3077              What countries do you do business in?  country_support\n",
       "3078             What are the countries you operate in.  country_support\n",
       "3079         Can the card be mailed and used in Europe?  country_support\n",
       "\n",
       "[3080 rows x 2 columns]"
      ]
     },
     "metadata": {},
     "output_type": "display_data"
    },
    {
     "name": "stdout",
     "output_type": "stream",
     "text": [
      "Testing Classes:\n"
     ]
    },
    {
     "data": {
      "text/plain": [
       "77"
      ]
     },
     "metadata": {},
     "output_type": "display_data"
    }
   ],
   "source": [
    "train = pd.read_csv(fl_train)\n",
    "test  = pd.read_csv(fl_test)\n",
    "\n",
    "print('\\nTraining Dataset:')\n",
    "display(train)\n",
    "print('Traning Classes:')\n",
    "display(len(train.category.unique()))\n",
    "print('\\nTesting Dataset:')\n",
    "display(test)\n",
    "print('Testing Classes:')\n",
    "display(len(test.category.unique()))\n",
    "\n",
    "training_sentences = list(train.loc[:,'text'])\n",
    "validation_sentences = list(test.loc[:,'text'])\n",
    "training_labels, levels = pd.factorize(train.loc[:,'category'])\n",
    "label_keys=dict(zip(levels,range(len(levels))))\n",
    "validation_labels = test.loc[:,'category'].map(lambda x: label_keys[x])"
   ]
  },
  {
   "cell_type": "code",
   "execution_count": 62,
   "id": "361e3ae3",
   "metadata": {
    "scrolled": true
   },
   "outputs": [
    {
     "data": {
      "application/vnd.jupyter.widget-view+json": {
       "model_id": "c502e70476b544f0b9270b152d41b807",
       "version_major": 2,
       "version_minor": 0
      },
      "text/plain": [
       "Downloading:   0%|          | 0.00/28.0 [00:00<?, ?B/s]"
      ]
     },
     "metadata": {},
     "output_type": "display_data"
    },
    {
     "data": {
      "application/vnd.jupyter.widget-view+json": {
       "model_id": "c3efce7ad3514745aa4182385c400c7a",
       "version_major": 2,
       "version_minor": 0
      },
      "text/plain": [
       "Downloading:   0%|          | 0.00/483 [00:00<?, ?B/s]"
      ]
     },
     "metadata": {},
     "output_type": "display_data"
    },
    {
     "data": {
      "application/vnd.jupyter.widget-view+json": {
       "model_id": "fdf1b4d94a3d4963a1002f400631aa36",
       "version_major": 2,
       "version_minor": 0
      },
      "text/plain": [
       "Downloading:   0%|          | 0.00/226k [00:00<?, ?B/s]"
      ]
     },
     "metadata": {},
     "output_type": "display_data"
    },
    {
     "data": {
      "application/vnd.jupyter.widget-view+json": {
       "model_id": "2a702f81607a4f44836ba2833541b83e",
       "version_major": 2,
       "version_minor": 0
      },
      "text/plain": [
       "Downloading:   0%|          | 0.00/455k [00:00<?, ?B/s]"
      ]
     },
     "metadata": {},
     "output_type": "display_data"
    }
   ],
   "source": [
    "checkpoint = \"distilbert-base-uncased\"\n",
    "tokenizer = AutoTokenizer.from_pretrained(checkpoint)"
   ]
  },
  {
   "cell_type": "code",
   "execution_count": 71,
   "id": "da57cbf0",
   "metadata": {},
   "outputs": [],
   "source": [
    "train_encodings = tokenizer(training_sentences,\n",
    "                            truncation=True,\n",
    "                            padding=True,\n",
    "                            return_tensors='tf')\n",
    "val_encodings = tokenizer(validation_sentences,\n",
    "                          truncation=True,\n",
    "                          padding=True,\n",
    "                          return_tensors='tf')"
   ]
  },
  {
   "cell_type": "code",
   "execution_count": 72,
   "id": "1522d315",
   "metadata": {},
   "outputs": [],
   "source": [
    "train_dataset = tf.data.Dataset.from_tensor_slices((\n",
    "    dict(train_encodings),\n",
    "    training_labels\n",
    "))\n",
    "\n",
    "val_dataset = tf.data.Dataset.from_tensor_slices((\n",
    "    dict(val_encodings),\n",
    "    validation_labels\n",
    "))"
   ]
  },
  {
   "cell_type": "code",
   "execution_count": 73,
   "id": "481feff5",
   "metadata": {},
   "outputs": [
    {
     "data": {
      "application/vnd.jupyter.widget-view+json": {
       "model_id": "e0b71853398d4ab2ba5f11967b82bcb9",
       "version_major": 2,
       "version_minor": 0
      },
      "text/plain": [
       "Downloading:   0%|          | 0.00/347M [00:00<?, ?B/s]"
      ]
     },
     "metadata": {},
     "output_type": "display_data"
    },
    {
     "name": "stderr",
     "output_type": "stream",
     "text": [
      "Some layers from the model checkpoint at distilbert-base-uncased were not used when initializing TFDistilBertForSequenceClassification: ['activation_13', 'vocab_projector', 'vocab_transform', 'vocab_layer_norm']\n",
      "- This IS expected if you are initializing TFDistilBertForSequenceClassification from the checkpoint of a model trained on another task or with another architecture (e.g. initializing a BertForSequenceClassification model from a BertForPreTraining model).\n",
      "- This IS NOT expected if you are initializing TFDistilBertForSequenceClassification from the checkpoint of a model that you expect to be exactly identical (initializing a BertForSequenceClassification model from a BertForSequenceClassification model).\n",
      "Some layers of TFDistilBertForSequenceClassification were not initialized from the model checkpoint at distilbert-base-uncased and are newly initialized: ['classifier', 'dropout_19', 'pre_classifier']\n",
      "You should probably TRAIN this model on a down-stream task to be able to use it for predictions and inference.\n"
     ]
    }
   ],
   "source": [
    "model = TFAutoModelForSequenceClassification.from_pretrained(checkpoint, num_labels=2)"
   ]
  },
  {
   "cell_type": "code",
   "execution_count": 74,
   "id": "1fbf439f",
   "metadata": {
    "collapsed": true
   },
   "outputs": [],
   "source": [
    "model.compile(\n",
    "    optimizer=tf.keras.optimizers.Adam(learning_rate=5e-5),\n",
    "    loss=CategoricalCrossentropy(from_logits=True),\n",
    "    metrics=['accuracy'],\n",
    ")"
   ]
  },
  {
   "cell_type": "code",
   "execution_count": null,
   "id": "340d2a06",
   "metadata": {},
   "outputs": [
    {
     "name": "stdout",
     "output_type": "stream",
     "text": [
      "Epoch 1/10\n",
      "157/157 [==============================] - 69s 440ms/step - loss: nan - accuracy: 0.0153 - val_loss: nan - val_accuracy: 0.0130\n",
      "Epoch 2/10\n",
      "157/157 [==============================] - 70s 447ms/step - loss: nan - accuracy: 0.0153 - val_loss: nan - val_accuracy: 0.0130\n",
      "Epoch 3/10\n",
      "157/157 [==============================] - 70s 445ms/step - loss: nan - accuracy: 0.0153 - val_loss: nan - val_accuracy: 0.0130\n",
      "Epoch 4/10\n",
      " 84/157 [===============>..............] - ETA: 29s - loss: nan - accuracy: 0.0285"
     ]
    }
   ],
   "source": [
    "model.fit(train_dataset.shuffle(100).batch(64),\n",
    "          epochs=10,\n",
    "          batch_size=64,\n",
    "          validation_data=val_dataset.shuffle(100).batch(64))"
   ]
  },
  {
   "cell_type": "code",
   "execution_count": null,
   "id": "99682755",
   "metadata": {},
   "outputs": [],
   "source": [
    "acc = history.history['accuracy']\n",
    "val_acc = history.history['val_accuracy']\n",
    "epochs_range = range(len(acc))\n",
    "\n",
    "plt.figure(figsize=(10, 4))\n",
    "plt.subplot(1, 2, 1)\n",
    "plt.plot(epochs_range, acc, label='Training Accuracy')\n",
    "plt.plot(epochs_range, val_acc, label='Validation Accuracy')\n",
    "plt.legend(loc='lower right')\n",
    "plt.title('Training and Validation Accuracy')"
   ]
  }
 ],
 "metadata": {
  "kernelspec": {
   "display_name": "Python [conda env:tf2.5]",
   "language": "python",
   "name": "conda-env-tf2.5-py"
  },
  "language_info": {
   "codemirror_mode": {
    "name": "ipython",
    "version": 3
   },
   "file_extension": ".py",
   "mimetype": "text/x-python",
   "name": "python",
   "nbconvert_exporter": "python",
   "pygments_lexer": "ipython3",
   "version": "3.8.0"
  }
 },
 "nbformat": 4,
 "nbformat_minor": 5
}
